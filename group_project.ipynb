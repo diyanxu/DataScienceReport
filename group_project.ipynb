{
 "cells": [
  {
   "cell_type": "markdown",
   "id": "ab0058ea",
   "metadata": {},
   "source": [
    "### Introduction\n"
   ]
  },
  {
   "cell_type": "markdown",
   "id": "671b3180",
   "metadata": {},
   "source": [
    "The dataset we have selected for this group project is the ontario government bridge condition dataset found here (https://data.ontario.ca/en/dataset/bridge-conditions/resource/703cdf01-ff09-4b86-b017-6e8d87b11fd2)\n",
    "\n",
    "The Bridge Condition Index (BCI) is a planning tool developed by the Ontaio Ministry of Transportation used to help determine when a bridge needs maintenance or rehabilition work. The BCI of any given bridge is calculated by taking the current dollar value of the bridge and dividing by the replacement cost of the bridge. The replacement value would be how much it would cost the government to reconstruct a new bridge.\n"
   ]
  },
  {
   "cell_type": "markdown",
   "id": "bed24e25",
   "metadata": {},
   "source": [
    "Ideas: \n",
    "\n",
    "- Create ML model to predict which bridges need major/minor rehab next by using dataset of all bridge that got a major/minor rehab, material type, highway? Maybe creating different models and checking for accuracy based on which attributes are used\n",
    "\n",
    "- Create using long/lat a plot of all bridges on a map with different colours indicating the BCI of the bridges, might be able to make an analysis on if there are certian areas have more bridges in 'worse' condition. This could be extended to dividing regions and getting average condition of regions. Additionally we could plot the bridges that got a rehab (major or minor) by year and see if certian areas get more rehabs.\n",
    "\n",
    "- Preform an analysis the decay rate per year of bridge materials"
   ]
  },
  {
   "cell_type": "code",
   "execution_count": null,
   "id": "5b4ba5f5",
   "metadata": {},
   "outputs": [],
   "source": []
  },
  {
   "cell_type": "markdown",
   "id": "82731339",
   "metadata": {},
   "source": [
    "\n",
    "### Code\n"
   ]
  },
  {
   "cell_type": "code",
   "execution_count": 4,
   "id": "44dbd50a",
   "metadata": {},
   "outputs": [
    {
     "name": "stderr",
     "output_type": "stream",
     "text": [
      "C:\\Users\\danie\\anaconda3\\lib\\site-packages\\urllib3\\connectionpool.py:1043: InsecureRequestWarning: Unverified HTTPS request is being made to host 'data.ontario.ca'. Adding certificate verification is strongly advised. See: https://urllib3.readthedocs.io/en/1.26.x/advanced-usage.html#ssl-warnings\n",
      "  warnings.warn(\n"
     ]
    },
    {
     "name": "stdout",
     "output_type": "stream",
     "text": [
      "<class 'pandas.core.frame.DataFrame'>\n",
      "RangeIndex: 5053 entries, 0 to 5052\n",
      "Data columns (total 44 columns):\n",
      " #   Column                      Non-Null Count  Dtype  \n",
      "---  ------                      --------------  -----  \n",
      " 0   ï»¿ID (SITE NÂ°)            5053 non-null   object \n",
      " 1   STRUCTURE NAME              5053 non-null   object \n",
      " 2   FRENCH NAME                 2763 non-null   object \n",
      " 3   HIGHWAY NAME                5044 non-null   object \n",
      " 4   LATITUDE                    5043 non-null   float64\n",
      " 5   LONGITUDE                   5042 non-null   float64\n",
      " 6   CATEGORY                    5053 non-null   object \n",
      " 7   SUBCATEGORY 1               5037 non-null   object \n",
      " 8   TYPE 1                      4968 non-null   object \n",
      " 9   MATERIAL 1                  5039 non-null   object \n",
      " 10  YEAR BUILT                  4819 non-null   float64\n",
      " 11  LAST MAJOR REHAB            2625 non-null   float64\n",
      " 12  LAST MINOR REHAB            1067 non-null   float64\n",
      " 13  NUMBER OF SPAN / CELLS      2967 non-null   float64\n",
      " 14  SPAN DETAILS (m)            4990 non-null   object \n",
      " 15  DECK / CULVERTS LENGTH (m)  5030 non-null   float64\n",
      " 16  WIDTH TOTAL (m)             5032 non-null   float64\n",
      " 17  REGION                      5053 non-null   object \n",
      " 18  COUNTY                      3224 non-null   object \n",
      " 19  OPERATION STATUS            5053 non-null   object \n",
      " 20  OWNER                       5053 non-null   object \n",
      " 21  LAST INSPECTION DATE        5025 non-null   object \n",
      " 22  CURRENT BCI                 5001 non-null   float64\n",
      " 23  2020                        2648 non-null   float64\n",
      " 24  2019                        2471 non-null   float64\n",
      " 25  2018                        2458 non-null   float64\n",
      " 26  2017                        2392 non-null   float64\n",
      " 27  2016                        2258 non-null   float64\n",
      " 28  2015                        2416 non-null   float64\n",
      " 29  2014                        2381 non-null   float64\n",
      " 30  2013                        2294 non-null   float64\n",
      " 31  2012                        2137 non-null   float64\n",
      " 32  2011                        2183 non-null   float64\n",
      " 33  2010                        2227 non-null   float64\n",
      " 34  2009                        2304 non-null   float64\n",
      " 35  2008                        2077 non-null   float64\n",
      " 36  2007                        2492 non-null   float64\n",
      " 37  2006                        2300 non-null   float64\n",
      " 38  2005                        2232 non-null   float64\n",
      " 39  2004                        1498 non-null   float64\n",
      " 40  2003                        1934 non-null   float64\n",
      " 41  2002                        1019 non-null   float64\n",
      " 42  2001                        1933 non-null   float64\n",
      " 43  2000                        495 non-null    float64\n",
      "dtypes: float64(30), object(14)\n",
      "memory usage: 1.7+ MB\n"
     ]
    }
   ],
   "source": [
    "# importing necessary libraries\n",
    "import numpy as np\n",
    "import pandas as pd\n",
    "import seaborn as sns\n",
    "import matplotlib.pyplot as plt\n",
    "%matplotlib inline\n",
    "import requests\n",
    "import io\n",
    "\n",
    "# downloading data\n",
    "r = requests.get('https://data.ontario.ca/dataset/37a472f6-b7ea-4a41-9d4b-64a0c8e5025a/resource/703cdf01-ff09-4b86-b017-6e8d87b11fd2/download/bridge_condition_open_data_2020_en.csv', verify=False)\n",
    "data_bridge = pd.read_csv(filepath_or_buffer=io.StringIO(r.text))\n",
    "\n",
    "data_bridge.info()"
   ]
  },
  {
   "cell_type": "code",
   "execution_count": null,
   "id": "58e2cae8",
   "metadata": {},
   "outputs": [],
   "source": []
  }
 ],
 "metadata": {
  "kernelspec": {
   "display_name": "Python 3 (ipykernel)",
   "language": "python",
   "name": "python3"
  },
  "language_info": {
   "codemirror_mode": {
    "name": "ipython",
    "version": 3
   },
   "file_extension": ".py",
   "mimetype": "text/x-python",
   "name": "python",
   "nbconvert_exporter": "python",
   "pygments_lexer": "ipython3",
   "version": "3.9.12"
  }
 },
 "nbformat": 4,
 "nbformat_minor": 5
}
